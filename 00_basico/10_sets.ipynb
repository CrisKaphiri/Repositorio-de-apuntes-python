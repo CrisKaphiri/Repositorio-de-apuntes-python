{
 "cells": [
  {
   "cell_type": "markdown",
   "id": "a2f1b402",
   "metadata": {},
   "source": [
    "#### 1. Crear un set\n",
    "- Los sets no tienen un orden\n",
    "- No aceptan elementos duplicados\n",
    "- Solo pueden contener elementos inmutables"
   ]
  },
  {
   "cell_type": "code",
   "execution_count": 1,
   "id": "13ac4f1a",
   "metadata": {},
   "outputs": [],
   "source": [
    "# Al crear un set se debe especificar el contenido\n",
    "variable = set(['foo', 'bar', 'baz', 'foo'])"
   ]
  },
  {
   "cell_type": "markdown",
   "id": "25aa2aa1",
   "metadata": {},
   "source": [
    "#### 2. Métodos"
   ]
  },
  {
   "cell_type": "code",
   "execution_count": 3,
   "id": "a9373d58",
   "metadata": {},
   "outputs": [
    {
     "data": {
      "text/plain": [
       "{4, 5, 6}"
      ]
     },
     "execution_count": 3,
     "metadata": {},
     "output_type": "execute_result"
    }
   ],
   "source": [
    "# Intersección - Muestra los valores que se repiten entre el set 1 y set 2\n",
    "set_1 = {1, 2, 3, 4, 5, 6}\n",
    "set_2 = {4, 5, 6 ,7, 8, 9}\n",
    "set_1.intersection(set_2)"
   ]
  },
  {
   "cell_type": "code",
   "execution_count": 6,
   "id": "93336e31",
   "metadata": {},
   "outputs": [
    {
     "data": {
      "text/plain": [
       "{1, 2, 3, 4, 5, 6, 7, 8, 9}"
      ]
     },
     "execution_count": 6,
     "metadata": {},
     "output_type": "execute_result"
    }
   ],
   "source": [
    "# Unión - Muestra todos los valores del set 1 y set 2\n",
    "set_1.union(set_2)"
   ]
  },
  {
   "cell_type": "code",
   "execution_count": 7,
   "id": "0219f9d9",
   "metadata": {},
   "outputs": [
    {
     "data": {
      "text/plain": [
       "{1, 2, 3}"
      ]
     },
     "execution_count": 7,
     "metadata": {},
     "output_type": "execute_result"
    }
   ],
   "source": [
    "# Difference - Muestra los valores del set 1 que no repiten con el set 2\n",
    "set_1.difference(set_2)"
   ]
  },
  {
   "cell_type": "code",
   "execution_count": 8,
   "id": "5f7e9dde",
   "metadata": {},
   "outputs": [
    {
     "data": {
      "text/plain": [
       "{1, 2, 3, 7, 8, 9}"
      ]
     },
     "execution_count": 8,
     "metadata": {},
     "output_type": "execute_result"
    }
   ],
   "source": [
    "# Symetric Difference - Muestra los valores que no se repiten del set 1 y set 2\n",
    "set_1.symmetric_difference(set_2)"
   ]
  },
  {
   "cell_type": "code",
   "execution_count": 4,
   "id": "cad75a18",
   "metadata": {},
   "outputs": [
    {
     "data": {
      "text/plain": [
       "{1, 2, 3, 4, 5, 6, 7}"
      ]
     },
     "execution_count": 4,
     "metadata": {},
     "output_type": "execute_result"
    }
   ],
   "source": [
    "# ADD - Añade un elemento al set\n",
    "set_1.add(7)\n",
    "set_1"
   ]
  }
 ],
 "metadata": {
  "kernelspec": {
   "display_name": "Python 3",
   "language": "python",
   "name": "python3"
  },
  "language_info": {
   "codemirror_mode": {
    "name": "ipython",
    "version": 3
   },
   "file_extension": ".py",
   "mimetype": "text/x-python",
   "name": "python",
   "nbconvert_exporter": "python",
   "pygments_lexer": "ipython3",
   "version": "3.12.10"
  }
 },
 "nbformat": 4,
 "nbformat_minor": 5
}
