{
 "cells": [
  {
   "cell_type": "markdown",
   "id": "13bd3e27",
   "metadata": {},
   "source": [
    "##### 1. Crear Listas"
   ]
  },
  {
   "cell_type": "code",
   "execution_count": 10,
   "id": "a839eef1",
   "metadata": {},
   "outputs": [],
   "source": [
    "# Crear una lista vacía\n",
    "lista = []  # Lista vacía\n",
    "lista = list()\n",
    "\n",
    "# Crear una lista de enteros\n",
    "lista_enteros = [1, 2, 3, 4, 5]\n",
    "\n",
    "# Crear una lista de Strings\n",
    "lista_stings = [\"Manzana\", \"Pera\", \"Naranja\"]\n",
    "\n",
    "# Crear una lista de datos mixtos\n",
    "lista_mixta = [1, 2, \"Manzana\", [3, \"Naranja\", None], 4]\n",
    "\n",
    "# Crear lista a partir de un rango\n",
    "lista_rango = list(range(1, 11))\n",
    "\n",
    "# Crear lista a partir de comprensión\n",
    "lista_cuadrados = [x**2 for x in range(1, 6)]"
   ]
  },
  {
   "cell_type": "markdown",
   "id": "67e9a534",
   "metadata": {},
   "source": [
    "#### 2. Indexar y acceder"
   ]
  },
  {
   "cell_type": "code",
   "execution_count": 14,
   "id": "3b9b0775",
   "metadata": {},
   "outputs": [
    {
     "data": {
      "text/plain": [
       "['Manzana', 'Pera', 'Naranja', [1, 2, 3], 'Sandía', 'Melón', 'Maracuya']"
      ]
     },
     "execution_count": 14,
     "metadata": {},
     "output_type": "execute_result"
    }
   ],
   "source": [
    "# Lista de ejemplo\n",
    "lista = ['Manzana', 'Pera', 'Naranja', [1, 2, 3], 'Sandía', 'Melón', 'Maracuya']\n",
    "lista"
   ]
  },
  {
   "cell_type": "code",
   "execution_count": 12,
   "id": "7e7fd0ee",
   "metadata": {},
   "outputs": [
    {
     "data": {
      "text/plain": [
       "'Manzana'"
      ]
     },
     "execution_count": 12,
     "metadata": {},
     "output_type": "execute_result"
    }
   ],
   "source": [
    "# Acceder al primer elemento\n",
    "lista[0]"
   ]
  },
  {
   "cell_type": "code",
   "execution_count": 7,
   "id": "a26e9fe4",
   "metadata": {},
   "outputs": [
    {
     "data": {
      "text/plain": [
       "'Pera'"
      ]
     },
     "execution_count": 7,
     "metadata": {},
     "output_type": "execute_result"
    }
   ],
   "source": [
    "# Acceder al segundo elemento\n",
    "lista[1]"
   ]
  },
  {
   "cell_type": "code",
   "execution_count": 8,
   "id": "6b2bc5a2",
   "metadata": {},
   "outputs": [
    {
     "data": {
      "text/plain": [
       "'Maracuya'"
      ]
     },
     "execution_count": 8,
     "metadata": {},
     "output_type": "execute_result"
    }
   ],
   "source": [
    "# Acceder al último elemento\n",
    "lista[-1]"
   ]
  },
  {
   "cell_type": "code",
   "execution_count": null,
   "id": "a63561d0",
   "metadata": {},
   "outputs": [
    {
     "data": {
      "text/plain": [
       "3"
      ]
     },
     "execution_count": 13,
     "metadata": {},
     "output_type": "execute_result"
    }
   ],
   "source": [
    "# Acceder a un elemento dentro de una lista anidada\n",
    "lista[3][2]"
   ]
  },
  {
   "cell_type": "markdown",
   "id": "8cd666de",
   "metadata": {},
   "source": [
    "#### 3. Slicing - Cortar listas\n",
    "- Permite obtener sublistas sin modificar la original.\n",
    "- sintaxis: lista[Inicio : Fin : Paso]\n",
    "- Útil para seleccionar subconjuntos de datos en análisis."
   ]
  },
  {
   "cell_type": "code",
   "execution_count": 24,
   "id": "043917c4",
   "metadata": {},
   "outputs": [],
   "source": [
    "numeros = [10, 20, 30, 40, 50 ,60]"
   ]
  },
  {
   "cell_type": "code",
   "execution_count": 4,
   "id": "31de5820",
   "metadata": {},
   "outputs": [
    {
     "data": {
      "text/plain": [
       "[10, 20, 30]"
      ]
     },
     "execution_count": 4,
     "metadata": {},
     "output_type": "execute_result"
    }
   ],
   "source": [
    "# Primeros 3 elementos\n",
    "numeros[:3]"
   ]
  },
  {
   "cell_type": "code",
   "execution_count": 5,
   "id": "57db56a5",
   "metadata": {},
   "outputs": [
    {
     "data": {
      "text/plain": [
       "[30, 40, 50]"
      ]
     },
     "execution_count": 5,
     "metadata": {},
     "output_type": "execute_result"
    }
   ],
   "source": [
    "# Del indice 2 al 4\n",
    "numeros[2:5]"
   ]
  },
  {
   "cell_type": "code",
   "execution_count": 6,
   "id": "ed77e1ad",
   "metadata": {},
   "outputs": [
    {
     "data": {
      "text/plain": [
       "[10, 30, 50]"
      ]
     },
     "execution_count": 6,
     "metadata": {},
     "output_type": "execute_result"
    }
   ],
   "source": [
    "# Cada segundo elemento\n",
    "numeros[::2]"
   ]
  },
  {
   "cell_type": "code",
   "execution_count": 7,
   "id": "5e698b3c",
   "metadata": {},
   "outputs": [
    {
     "data": {
      "text/plain": [
       "[60, 50, 40, 30, 20, 10]"
      ]
     },
     "execution_count": 7,
     "metadata": {},
     "output_type": "execute_result"
    }
   ],
   "source": [
    "# Reverso de la lista\n",
    "numeros[::-1]"
   ]
  },
  {
   "cell_type": "markdown",
   "id": "b8472699",
   "metadata": {},
   "source": [
    "#### 4. Modificar elementos\n",
    "- Las listas son mutables -> se pueden cambiar elementos, añadir o eliminar.\n",
    "- Fundamental para preparar datos antes del análisis."
   ]
  },
  {
   "cell_type": "code",
   "execution_count": 8,
   "id": "99976c8e",
   "metadata": {},
   "outputs": [
    {
     "data": {
      "text/plain": [
       "[100, 20, 30, 40, 50, 60]"
      ]
     },
     "execution_count": 8,
     "metadata": {},
     "output_type": "execute_result"
    }
   ],
   "source": [
    "# Cambiar un valor\n",
    "numeros[0] = 100\n",
    "numeros"
   ]
  },
  {
   "cell_type": "code",
   "execution_count": 9,
   "id": "7858237e",
   "metadata": {},
   "outputs": [
    {
     "data": {
      "text/plain": [
       "[1, 2, ['a', 'modificado', 'c'], 4]"
      ]
     },
     "execution_count": 9,
     "metadata": {},
     "output_type": "execute_result"
    }
   ],
   "source": [
    "# Cambiar elemento en lista anidada\n",
    "mixta = [1, 2,[\"a\", \"b\", \"c\"], 4]\n",
    "mixta[2][1] = \"modificado\"\n",
    "mixta"
   ]
  },
  {
   "cell_type": "code",
   "execution_count": 25,
   "id": "97fb5063",
   "metadata": {},
   "outputs": [
    {
     "data": {
      "text/plain": [
       "[10, 200, 300, 400, 500, 40, 50, 60]"
      ]
     },
     "execution_count": 25,
     "metadata": {},
     "output_type": "execute_result"
    }
   ],
   "source": [
    "# Cambiar elementos en un rango de lista\n",
    "numeros[1:3] = [200, 300, 400, 500] # Reemplaza el segundo y tercer elemento (20, 30), por 200, 300, 400, 500\n",
    "numeros"
   ]
  },
  {
   "cell_type": "markdown",
   "id": "11e2ba62",
   "metadata": {},
   "source": [
    "#### 5. Operaciones con listas"
   ]
  },
  {
   "cell_type": "code",
   "execution_count": 26,
   "id": "e8a094da",
   "metadata": {},
   "outputs": [
    {
     "data": {
      "text/plain": [
       "['Manzana', 'Pera', 'Naranja', 'Sandía', 'Melón', 'Maracuyá']"
      ]
     },
     "execution_count": 26,
     "metadata": {},
     "output_type": "execute_result"
    }
   ],
   "source": [
    "# Combinar dos listas\n",
    "lista1 = ['Manzana', 'Pera', 'Naranja']\n",
    "lista2 = ['Sandía', 'Melón', 'Maracuyá']\n",
    "lista1 + lista2"
   ]
  },
  {
   "cell_type": "code",
   "execution_count": null,
   "id": "2dd8a150",
   "metadata": {},
   "outputs": [
    {
     "data": {
      "text/plain": [
       "['Manzana', 'Pera', 'Naranja', 'Manzana', 'Pera', 'Naranja']"
      ]
     },
     "execution_count": 28,
     "metadata": {},
     "output_type": "execute_result"
    }
   ],
   "source": [
    "# Duplicar una lista\n",
    "lista1 * 2"
   ]
  },
  {
   "cell_type": "code",
   "execution_count": null,
   "id": "d81e4051",
   "metadata": {},
   "outputs": [
    {
     "data": {
      "text/plain": [
       "True"
      ]
     },
     "execution_count": 32,
     "metadata": {},
     "output_type": "execute_result"
    }
   ],
   "source": [
    "# Comprobar si existe un elemento\n",
    "'Manzana' in lista1 # True\n",
    "'Platano' not in lista1 # True"
   ]
  },
  {
   "cell_type": "markdown",
   "id": "99e16ceb",
   "metadata": {},
   "source": [
    "#### 6. Métodos de listas"
   ]
  },
  {
   "cell_type": "code",
   "execution_count": 36,
   "id": "e00606f0",
   "metadata": {},
   "outputs": [
    {
     "data": {
      "text/plain": [
       "['Manzana', 'Pera', 'Naranja', 'Sandía', 'Melon', 'Maracuyá', 'Elemento']"
      ]
     },
     "execution_count": 36,
     "metadata": {},
     "output_type": "execute_result"
    }
   ],
   "source": [
    "# APPEND - Añade un elemento al final de la lista\n",
    "lista = ['Manzana', 'Pera', 'Naranja', 'Sandía', 'Melon', 'Maracuyá']\n",
    "lista.append('Elemento')\n",
    "lista"
   ]
  },
  {
   "cell_type": "code",
   "execution_count": null,
   "id": "97f6a97d",
   "metadata": {},
   "outputs": [
    {
     "data": {
      "text/plain": [
       "['Manzana', 'Pera', 'Elemento', 'Naranja', 'Sandía', 'Melon', 'Maracuyá']"
      ]
     },
     "execution_count": 38,
     "metadata": {},
     "output_type": "execute_result"
    }
   ],
   "source": [
    "# INSERT - Insertar un elemento en una posición, el resto se desplaza una posición\n",
    "lista = ['Manzana', 'Pera', 'Naranja', 'Sandía', 'Melon', 'Maracuyá']\n",
    "lista.insert(2, 'Elemento')\n",
    "lista"
   ]
  },
  {
   "cell_type": "code",
   "execution_count": 40,
   "id": "c6e5afb9",
   "metadata": {},
   "outputs": [
    {
     "data": {
      "text/plain": [
       "['Pera', 'Naranja', 'Manzana']"
      ]
     },
     "execution_count": 40,
     "metadata": {},
     "output_type": "execute_result"
    }
   ],
   "source": [
    "# REMOVE - Borra la primera ocurrencia del elemento\n",
    "lista = ['Manzana', 'Pera', 'Naranja', 'Manzana']\n",
    "lista.remove('Manzana')\n",
    "lista"
   ]
  },
  {
   "cell_type": "code",
   "execution_count": 41,
   "id": "a42d862d",
   "metadata": {},
   "outputs": [
    {
     "data": {
      "text/plain": [
       "['Manzana', 'Pera', 'Sandía', 'Melon']"
      ]
     },
     "execution_count": 41,
     "metadata": {},
     "output_type": "execute_result"
    }
   ],
   "source": [
    "# POP - Borra el elemento especificado por el índice o el último elemento\n",
    "lista = ['Manzana', 'Pera', 'Naranja', 'Sandía', 'Melon', 'Maracuyá']\n",
    "lista.pop() # Remueve el último elemento\n",
    "lista.pop(2) # Remueve el elemento del índice 2\n",
    "lista"
   ]
  },
  {
   "cell_type": "code",
   "execution_count": 42,
   "id": "a0cec344",
   "metadata": {},
   "outputs": [
    {
     "data": {
      "text/plain": [
       "[]"
      ]
     },
     "execution_count": 42,
     "metadata": {},
     "output_type": "execute_result"
    }
   ],
   "source": [
    "# CLEAR - Borra todos los elementos\n",
    "lista = ['Manzana', 'Pera', 'Naranja', 'Sandía', 'Melon', 'Maracuyá']\n",
    "lista.clear()\n",
    "lista"
   ]
  },
  {
   "cell_type": "code",
   "execution_count": 44,
   "id": "1734b73d",
   "metadata": {},
   "outputs": [
    {
     "data": {
      "text/plain": [
       "2"
      ]
     },
     "execution_count": 44,
     "metadata": {},
     "output_type": "execute_result"
    }
   ],
   "source": [
    "# INDEX - Retorna el índice de la primera ocurrencia\n",
    "lista = ['Manzana', 'Pera', 'Naranja', 'Sandía', 'Melon', 'Maracuyá']\n",
    "lista.index('Naranja') # Retorna 2"
   ]
  },
  {
   "cell_type": "code",
   "execution_count": 46,
   "id": "81ec18d2",
   "metadata": {},
   "outputs": [
    {
     "data": {
      "text/plain": [
       "3"
      ]
     },
     "execution_count": 46,
     "metadata": {},
     "output_type": "execute_result"
    }
   ],
   "source": [
    "# COUNT - Retorna la cantidad que aparece el elemento en la lista\n",
    "lista = ['Manzana', 'Pera', 'Naranja', 'Manzana', 'Melón', 'Manzana']\n",
    "lista.count('Manzana')"
   ]
  },
  {
   "cell_type": "code",
   "execution_count": 47,
   "id": "15b9e316",
   "metadata": {},
   "outputs": [
    {
     "data": {
      "text/plain": [
       "['Manzana', 'Maracuyá', 'Melon', 'Naranja', 'Pera', 'Sandía']"
      ]
     },
     "execution_count": 47,
     "metadata": {},
     "output_type": "execute_result"
    }
   ],
   "source": [
    "# SORT - Ordena los elementos de una lista\n",
    "lista = ['Manzana', 'Pera', 'Naranja', 'Sandía', 'Melon', 'Maracuyá']\n",
    "lista.sort() # Ordena la lista ascendente al abecedario\n",
    "lista"
   ]
  },
  {
   "cell_type": "code",
   "execution_count": 48,
   "id": "a055c8f3",
   "metadata": {},
   "outputs": [
    {
     "data": {
      "text/plain": [
       "['Sandía', 'Pera', 'Naranja', 'Melon', 'Maracuyá', 'Manzana']"
      ]
     },
     "execution_count": 48,
     "metadata": {},
     "output_type": "execute_result"
    }
   ],
   "source": [
    "# SORT con reverse - Ordena la lista de elementos de manera descendente\n",
    "lista = ['Manzana', 'Pera', 'Naranja', 'Sandía', 'Melon', 'Maracuyá']\n",
    "lista.sort(reverse = True)\n",
    "lista"
   ]
  }
 ],
 "metadata": {
  "kernelspec": {
   "display_name": "Python 3",
   "language": "python",
   "name": "python3"
  },
  "language_info": {
   "codemirror_mode": {
    "name": "ipython",
    "version": 3
   },
   "file_extension": ".py",
   "mimetype": "text/x-python",
   "name": "python",
   "nbconvert_exporter": "python",
   "pygments_lexer": "ipython3",
   "version": "3.12.10"
  }
 },
 "nbformat": 4,
 "nbformat_minor": 5
}
