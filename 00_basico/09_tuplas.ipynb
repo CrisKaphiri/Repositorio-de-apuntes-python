{
 "cells": [
  {
   "cell_type": "markdown",
   "id": "579617db",
   "metadata": {},
   "source": [
    "#### 1. Crear tuplas\n",
    "- Se usan para valores constantes, por ejemplo coordenadas (lat, lon) o combinaciones de clave-valor fijas.\n",
    "- Útil para estadística sobre un dataset"
   ]
  },
  {
   "cell_type": "code",
   "execution_count": 1,
   "id": "17d1fc91",
   "metadata": {},
   "outputs": [],
   "source": [
    "# Tupla vacía\n",
    "tupla_vacia = ()"
   ]
  },
  {
   "cell_type": "code",
   "execution_count": 2,
   "id": "b3a1f5be",
   "metadata": {},
   "outputs": [
    {
     "data": {
      "text/plain": [
       "('manzana', 'pera', 'naranja')"
      ]
     },
     "execution_count": 2,
     "metadata": {},
     "output_type": "execute_result"
    }
   ],
   "source": [
    "# Tupla con elementos\n",
    "numeros = (1, 2, 3, 4, 5)\n",
    "frutas = (\"manzana\", \"pera\", \"naranja\")\n",
    "frutas"
   ]
  },
  {
   "cell_type": "code",
   "execution_count": null,
   "id": "7f0d560d",
   "metadata": {},
   "outputs": [
    {
     "data": {
      "text/plain": [
       "(10,)"
      ]
     },
     "execution_count": 6,
     "metadata": {},
     "output_type": "execute_result"
    }
   ],
   "source": [
    "# Tupla con un solo elemento (Debe tener una coma al final, o lo reconocerá como int)\n",
    "un_elemento = (10,)\n",
    "un_elemento"
   ]
  },
  {
   "cell_type": "code",
   "execution_count": 7,
   "id": "93dca656",
   "metadata": {},
   "outputs": [
    {
     "data": {
      "text/plain": [
       "(1, 'Hola', 3.14, True)"
      ]
     },
     "execution_count": 7,
     "metadata": {},
     "output_type": "execute_result"
    }
   ],
   "source": [
    "# Tupla mixta\n",
    "mixta = (1, \"Hola\", 3.14, True)\n",
    "mixta"
   ]
  },
  {
   "cell_type": "markdown",
   "id": "d66e82b4",
   "metadata": {},
   "source": [
    "#### 2. Acceder a elementos"
   ]
  },
  {
   "cell_type": "code",
   "execution_count": null,
   "id": "e4a1b17c",
   "metadata": {},
   "outputs": [
    {
     "data": {
      "text/plain": [
       "'manzana'"
      ]
     },
     "execution_count": 8,
     "metadata": {},
     "output_type": "execute_result"
    }
   ],
   "source": [
    "# Indexar\n",
    "frutas[0]"
   ]
  },
  {
   "cell_type": "code",
   "execution_count": 9,
   "id": "be2d2c28",
   "metadata": {},
   "outputs": [
    {
     "data": {
      "text/plain": [
       "(2, 3, 4)"
      ]
     },
     "execution_count": 9,
     "metadata": {},
     "output_type": "execute_result"
    }
   ],
   "source": [
    "# Slicing\n",
    "numeros[1:4]"
   ]
  },
  {
   "cell_type": "markdown",
   "id": "08d1fcc4",
   "metadata": {},
   "source": [
    "#### 3. Operaciones con tuplas"
   ]
  },
  {
   "cell_type": "code",
   "execution_count": 10,
   "id": "ab51b33b",
   "metadata": {},
   "outputs": [
    {
     "data": {
      "text/plain": [
       "(1, 2, 3, 4)"
      ]
     },
     "execution_count": 10,
     "metadata": {},
     "output_type": "execute_result"
    }
   ],
   "source": [
    "# Concatenar\n",
    "t1 = (1, 2)\n",
    "t2 = (3, 4)\n",
    "t1 + t2"
   ]
  },
  {
   "cell_type": "code",
   "execution_count": 11,
   "id": "16f68ddb",
   "metadata": {},
   "outputs": [
    {
     "data": {
      "text/plain": [
       "(1, 2, 1, 2, 1, 2)"
      ]
     },
     "execution_count": 11,
     "metadata": {},
     "output_type": "execute_result"
    }
   ],
   "source": [
    "# Repetir\n",
    "t1 * 3"
   ]
  },
  {
   "cell_type": "code",
   "execution_count": 12,
   "id": "2fc1ac12",
   "metadata": {},
   "outputs": [
    {
     "data": {
      "text/plain": [
       "True"
      ]
     },
     "execution_count": 12,
     "metadata": {},
     "output_type": "execute_result"
    }
   ],
   "source": [
    "# Comprobar existencia\n",
    "2 in t1"
   ]
  },
  {
   "cell_type": "markdown",
   "id": "046c8438",
   "metadata": {},
   "source": [
    "#### 4. Métodos de tuplas"
   ]
  },
  {
   "cell_type": "code",
   "execution_count": 13,
   "id": "bfe11138",
   "metadata": {},
   "outputs": [],
   "source": [
    "numeros = (1, 2, 3, 2, 4)"
   ]
  },
  {
   "cell_type": "code",
   "execution_count": 14,
   "id": "e06f1a57",
   "metadata": {},
   "outputs": [
    {
     "data": {
      "text/plain": [
       "2"
      ]
     },
     "execution_count": 14,
     "metadata": {},
     "output_type": "execute_result"
    }
   ],
   "source": [
    "# COUNT - contar apariciones de un valor\n",
    "numeros.count(2)"
   ]
  },
  {
   "cell_type": "code",
   "execution_count": 16,
   "id": "b4c7b40f",
   "metadata": {},
   "outputs": [
    {
     "data": {
      "text/plain": [
       "1"
      ]
     },
     "execution_count": 16,
     "metadata": {},
     "output_type": "execute_result"
    }
   ],
   "source": [
    "# INDEX - obtener indice de un valor\n",
    "numeros.index(2)"
   ]
  }
 ],
 "metadata": {
  "kernelspec": {
   "display_name": "Python 3",
   "language": "python",
   "name": "python3"
  },
  "language_info": {
   "codemirror_mode": {
    "name": "ipython",
    "version": 3
   },
   "file_extension": ".py",
   "mimetype": "text/x-python",
   "name": "python",
   "nbconvert_exporter": "python",
   "pygments_lexer": "ipython3",
   "version": "3.12.10"
  }
 },
 "nbformat": 4,
 "nbformat_minor": 5
}
