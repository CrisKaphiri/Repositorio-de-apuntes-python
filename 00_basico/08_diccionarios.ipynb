{
 "cells": [
  {
   "cell_type": "markdown",
   "id": "6ecc1119",
   "metadata": {},
   "source": [
    "#### 1. Crear diccionarios"
   ]
  },
  {
   "cell_type": "code",
   "execution_count": 1,
   "id": "fbc39063",
   "metadata": {},
   "outputs": [],
   "source": [
    "# Diccionario vacío\n",
    "mi_diccionario = {}\n",
    "mi_diccionario = dict()"
   ]
  },
  {
   "cell_type": "code",
   "execution_count": 5,
   "id": "b5e54159",
   "metadata": {},
   "outputs": [],
   "source": [
    "# Diccionario con valores iniciales\n",
    "personas = {\"nombre\" : \"Ana\",\n",
    "            \"edad\" : 25,\n",
    "            \"ciudad\": \"Santiago\"}"
   ]
  },
  {
   "cell_type": "code",
   "execution_count": 6,
   "id": "84ab2f3b",
   "metadata": {},
   "outputs": [
    {
     "data": {
      "text/plain": [
       "'Ana'"
      ]
     },
     "execution_count": 6,
     "metadata": {},
     "output_type": "execute_result"
    }
   ],
   "source": [
    "# Acceder a un valor usando su clave\n",
    "personas[\"nombre\"]"
   ]
  },
  {
   "cell_type": "markdown",
   "id": "ad72bfc2",
   "metadata": {},
   "source": [
    "#### 2. Modificar diccionarios"
   ]
  },
  {
   "cell_type": "code",
   "execution_count": 8,
   "id": "42f5bcc2",
   "metadata": {},
   "outputs": [
    {
     "data": {
      "text/plain": [
       "26"
      ]
     },
     "execution_count": 8,
     "metadata": {},
     "output_type": "execute_result"
    }
   ],
   "source": [
    "# Cambiar un valor\n",
    "personas[\"edad\"] = 26\n",
    "personas[\"edad\"]"
   ]
  },
  {
   "cell_type": "code",
   "execution_count": 10,
   "id": "9d61586d",
   "metadata": {},
   "outputs": [
    {
     "data": {
      "text/plain": [
       "'Ingeniera'"
      ]
     },
     "execution_count": 10,
     "metadata": {},
     "output_type": "execute_result"
    }
   ],
   "source": [
    "# Añadir un nuevo par clave - valor\n",
    "personas[\"profesion\"] = \"Ingeniera\"\n",
    "personas[\"profesion\"]"
   ]
  },
  {
   "cell_type": "code",
   "execution_count": 11,
   "id": "1216f297",
   "metadata": {},
   "outputs": [
    {
     "data": {
      "text/plain": [
       "{'nombre': 'Ana', 'edad': 26, 'profesion': 'Ingeniera'}"
      ]
     },
     "execution_count": 11,
     "metadata": {},
     "output_type": "execute_result"
    }
   ],
   "source": [
    "# Eliminar un par clave - valor\n",
    "del personas[\"ciudad\"]\n",
    "personas"
   ]
  },
  {
   "cell_type": "markdown",
   "id": "07b1c2fa",
   "metadata": {},
   "source": [
    "#### 3. Métodos"
   ]
  },
  {
   "cell_type": "code",
   "execution_count": null,
   "id": "671f6c5a",
   "metadata": {},
   "outputs": [
    {
     "data": {
      "text/plain": [
       "dict_keys(['nombre', 'edad', 'profesion'])"
      ]
     },
     "execution_count": 12,
     "metadata": {},
     "output_type": "execute_result"
    }
   ],
   "source": [
    "# KEYS - Obtiene todas las claves\n",
    "personas.keys()"
   ]
  },
  {
   "cell_type": "code",
   "execution_count": 13,
   "id": "c39d0230",
   "metadata": {},
   "outputs": [
    {
     "data": {
      "text/plain": [
       "dict_values(['Ana', 26, 'Ingeniera'])"
      ]
     },
     "execution_count": 13,
     "metadata": {},
     "output_type": "execute_result"
    }
   ],
   "source": [
    "# VALUES - Obtiene todos los valores\n",
    "personas.values() "
   ]
  },
  {
   "cell_type": "code",
   "execution_count": null,
   "id": "7915da78",
   "metadata": {},
   "outputs": [
    {
     "data": {
      "text/plain": [
       "dict_items([('nombre', 'Ana'), ('edad', 26), ('profesion', 'Ingeniera')])"
      ]
     },
     "execution_count": 14,
     "metadata": {},
     "output_type": "execute_result"
    }
   ],
   "source": [
    "# ITEMS - Obtiene pares clave - valor \n",
    "personas.items()"
   ]
  },
  {
   "cell_type": "code",
   "execution_count": 17,
   "id": "f0ce54ed",
   "metadata": {},
   "outputs": [
    {
     "data": {
      "text/plain": [
       "26"
      ]
     },
     "execution_count": 17,
     "metadata": {},
     "output_type": "execute_result"
    }
   ],
   "source": [
    "# GET - Obtiene un valor (No lanza error si no existe)\n",
    "personas.get(\"edad\")"
   ]
  },
  {
   "cell_type": "code",
   "execution_count": 19,
   "id": "16ac4134",
   "metadata": {},
   "outputs": [
    {
     "data": {
      "text/plain": [
       "26"
      ]
     },
     "execution_count": 19,
     "metadata": {},
     "output_type": "execute_result"
    }
   ],
   "source": [
    "# POP - Elimina el elemento y devuelve el valor\n",
    "personas.pop(\"edad\")"
   ]
  },
  {
   "cell_type": "code",
   "execution_count": 20,
   "id": "9646f852",
   "metadata": {},
   "outputs": [
    {
     "data": {
      "text/plain": [
       "{'nombre': 'Ana', 'profesion': 'Ingeniera'}"
      ]
     },
     "execution_count": 20,
     "metadata": {},
     "output_type": "execute_result"
    }
   ],
   "source": [
    "personas"
   ]
  },
  {
   "cell_type": "markdown",
   "id": "614f66be",
   "metadata": {},
   "source": [
    "### 4. Iteración sobre diccionarios"
   ]
  },
  {
   "cell_type": "code",
   "execution_count": 23,
   "id": "c4547823",
   "metadata": {},
   "outputs": [
    {
     "name": "stdout",
     "output_type": "stream",
     "text": [
      "nombre\n",
      "profesion\n"
     ]
    }
   ],
   "source": [
    "# Iterar sobre claves\n",
    "for clave in personas:\n",
    "    print(clave)"
   ]
  },
  {
   "cell_type": "code",
   "execution_count": null,
   "id": "d529a68c",
   "metadata": {},
   "outputs": [
    {
     "name": "stdout",
     "output_type": "stream",
     "text": [
      "nombre Ana\n",
      "profesion Ingeniera\n"
     ]
    }
   ],
   "source": [
    "# Iterar sobre items (clave, valor)\n",
    "for clave, valor in personas.items():\n",
    "    print(valor)"
   ]
  }
 ],
 "metadata": {
  "kernelspec": {
   "display_name": "Python 3",
   "language": "python",
   "name": "python3"
  },
  "language_info": {
   "codemirror_mode": {
    "name": "ipython",
    "version": 3
   },
   "file_extension": ".py",
   "mimetype": "text/x-python",
   "name": "python",
   "nbconvert_exporter": "python",
   "pygments_lexer": "ipython3",
   "version": "3.12.10"
  }
 },
 "nbformat": 4,
 "nbformat_minor": 5
}
