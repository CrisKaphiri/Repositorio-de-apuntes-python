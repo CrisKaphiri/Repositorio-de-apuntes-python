{
 "cells": [
  {
   "cell_type": "markdown",
   "id": "eab16f83",
   "metadata": {},
   "source": [
    "#### Ejercicios con Listas"
   ]
  },
  {
   "cell_type": "code",
   "execution_count": 17,
   "id": "f7f7f08c",
   "metadata": {},
   "outputs": [
    {
     "name": "stdout",
     "output_type": "stream",
     "text": [
      "Primera ciudad: Santiago | Ultima ciudad: Arica\n"
     ]
    },
    {
     "data": {
      "text/plain": [
       "['Santiago', 'Concepción', 'Valparaiso', 'Coquimbo', 'Arica', 'Antofagasta']"
      ]
     },
     "execution_count": 17,
     "metadata": {},
     "output_type": "execute_result"
    }
   ],
   "source": [
    "# 1. Crea una lista con los nombres de 5 ciudades. Muestra la primera y la última.\n",
    "#    Luego agrega una nueva ciudad y muestra la lista actualizada.\n",
    "\n",
    "ciudades = ['Santiago', 'Concepción', 'Valparaiso', 'Coquimbo', 'Arica']\n",
    "print(f\"Primera ciudad: {ciudades[0]} | Ultima ciudad: {ciudades[-1]}\") # imprime primer y ultimo elemento\n",
    "ciudades.append('Antofagasta') # Añade antofagasta a la lista\n",
    "ciudades"
   ]
  },
  {
   "cell_type": "code",
   "execution_count": 35,
   "id": "554466fb",
   "metadata": {},
   "outputs": [
    {
     "name": "stdout",
     "output_type": "stream",
     "text": [
      "[2, 4, 6, 8, 10]\n"
     ]
    },
    {
     "data": {
      "text/plain": [
       "[2, 4, 6, 8, 10, 12, 14, 16, 18, 20]"
      ]
     },
     "execution_count": 35,
     "metadata": {},
     "output_type": "execute_result"
    }
   ],
   "source": [
    "# 2. Crea una lista con los números del 1 al 10.\n",
    "#    - Imprime los pares.\n",
    "#    - Crea una nueva lista con los números multiplicados por 2.\n",
    "numeros = list(range(1,11))\n",
    "pares = [x for x in numeros if x % 2 == 0]\n",
    "print(pares) # numeros pares\n",
    "numeros_x2 = [x*2 for x in numeros] # nueva lista con numeros multiplicados por 2\n",
    "numeros_x2"
   ]
  },
  {
   "cell_type": "code",
   "execution_count": 22,
   "id": "0caa22bb",
   "metadata": {},
   "outputs": [
    {
     "name": "stdout",
     "output_type": "stream",
     "text": [
      "[100, 200, 350, 400, 500]\n",
      "[200, 350, 400, 500]\n"
     ]
    },
    {
     "data": {
      "text/plain": [
       "[200, 350, 400, 500, 600]"
      ]
     },
     "execution_count": 22,
     "metadata": {},
     "output_type": "execute_result"
    }
   ],
   "source": [
    "# 3. Dada la lista:\n",
    "#    precios = [100, 200, 300, 400, 500]\n",
    "#    - Modifica el tercer valor a 350.\n",
    "#    - Elimina el primer elemento.\n",
    "#    - Agrega un nuevo precio al final.\n",
    "\n",
    "precios = [100, 200, 300, 400, 500]\n",
    "precios[2] = 350 # Modificar el tercer valor a 350\n",
    "print(precios)\n",
    "precios.pop(0) # Elimina el primer elemento\n",
    "print(precios)\n",
    "precios.append(600)\n",
    "precios"
   ]
  },
  {
   "cell_type": "code",
   "execution_count": 29,
   "id": "802df0f6",
   "metadata": {},
   "outputs": [
    {
     "name": "stdout",
     "output_type": "stream",
     "text": [
      "['Apio', 'Lechuga', 'Manzana', 'Naranja', 'Pera', 'Repollo']\n"
     ]
    },
    {
     "data": {
      "text/plain": [
       "6"
      ]
     },
     "execution_count": 29,
     "metadata": {},
     "output_type": "execute_result"
    }
   ],
   "source": [
    "# 4. Une dos listas: una de frutas y otra de verduras, ordénalas alfabéticamente\n",
    "#    y muestra la cantidad total de elementos.\n",
    "\n",
    "frutas = ['Manzana', 'Pera', 'Naranja']\n",
    "verduras = ['Lechuga', 'Apio', 'Repollo']\n",
    "frutas_verduras = frutas + verduras # Unir ambas listas\n",
    "frutas_verduras.sort() # Ordenado alfabeticamente\n",
    "print(frutas_verduras)\n",
    "len(frutas_verduras) # Cantidad total de elementos"
   ]
  },
  {
   "cell_type": "code",
   "execution_count": 30,
   "id": "b7873070",
   "metadata": {},
   "outputs": [
    {
     "data": {
      "text/plain": [
       "[1, 4, 9, 16, 25, 36, 49, 64, 81, 100]"
      ]
     },
     "execution_count": 30,
     "metadata": {},
     "output_type": "execute_result"
    }
   ],
   "source": [
    "# 5. Usa una lista por comprensión para crear una lista con los cuadrados de los números del 1 al 10.\n",
    "lista_cuadrados = list(x**2 for x in range(1, 11))\n",
    "lista_cuadrados"
   ]
  },
  {
   "cell_type": "code",
   "execution_count": 37,
   "id": "f7d59195",
   "metadata": {},
   "outputs": [
    {
     "data": {
      "text/plain": [
       "'Python es poderoso y versátil'"
      ]
     },
     "execution_count": 37,
     "metadata": {},
     "output_type": "execute_result"
    }
   ],
   "source": [
    "# 6. Dada la lista de palabras:\n",
    "#    palabras = [\"Python\", \"es\", \"poderoso\", \"y\", \"versátil\"]\n",
    "#    - Une todas las palabras en una sola cadena separada por espacios.\n",
    "\n",
    "palabras = [\"Python\", \"es\", \"poderoso\", \"y\", \"versátil\"]\n",
    "texto = \" \".join(palabras)\n",
    "texto"
   ]
  },
  {
   "cell_type": "markdown",
   "id": "712b125d",
   "metadata": {},
   "source": [
    "#### Ejercicios con diccionarios"
   ]
  },
  {
   "cell_type": "code",
   "execution_count": null,
   "id": "358c451b",
   "metadata": {},
   "outputs": [
    {
     "name": "stdout",
     "output_type": "stream",
     "text": [
      "Anonimo\n",
      "28\n",
      "Santiago\n"
     ]
    }
   ],
   "source": [
    "# 1. Crea un diccionario con información de una persona:\n",
    "#    nombre, edad, ciudad.\n",
    "#    Muestra cada valor accediendo por su clave.\n",
    "\n",
    "informacion_personal = {\"nombre\" : \"Anonimo\",\n",
    "                        \"edad\" : 28, \n",
    "                        \"ciudad\" : \"Santiago\"\n",
    "}\n",
    "\n",
    "print(informacion_personal[\"nombre\"])\n",
    "print(informacion_personal[\"edad\"])\n",
    "print(informacion_personal[\"ciudad\"])"
   ]
  },
  {
   "cell_type": "code",
   "execution_count": 6,
   "id": "8797528c",
   "metadata": {},
   "outputs": [
    {
     "name": "stdout",
     "output_type": "stream",
     "text": [
      "Ingeniero\n",
      "29\n"
     ]
    }
   ],
   "source": [
    "# 2. Agrega al diccionario anterior una nueva clave: \"profesión\"\n",
    "#    y luego actualiza la edad sumando 1 año.\n",
    "\n",
    "informacion_personal[\"profesion\"] = \"Ingeniero\"\n",
    "informacion_personal[\"edad\"] = informacion_personal[\"edad\"] + 1\n",
    "\n",
    "print(informacion_personal[\"profesion\"])\n",
    "print(informacion_personal[\"edad\"])"
   ]
  },
  {
   "cell_type": "code",
   "execution_count": null,
   "id": "6d887c03",
   "metadata": {},
   "outputs": [
    {
     "name": "stdout",
     "output_type": "stream",
     "text": [
      "dict_keys(['nombre', 'precio', 'stock'])\n",
      "dict_values(['Laptop', 850000, 10])\n",
      "La cantidad de stock es: 8\n"
     ]
    }
   ],
   "source": [
    "# 3. Dado el diccionario:\n",
    "#    producto = {\"nombre\": \"Laptop\", \"precio\": 850000, \"stock\": 10}\n",
    "#    - Muestra sus claves\n",
    "#    - Muestra sus valores\n",
    "#    - Resta 2 al stock\n",
    "\n",
    "producto = {\"nombre\": \"Laptop\", \"precio\": 850000, \"stock\": 10}\n",
    "\n",
    "print(producto.keys())\n",
    "print(producto.values())\n",
    "producto[\"stock\"] = producto[\"stock\"] - 2\n",
    "print(f\"La cantidad de stock es: {producto[\"stock\"]}\")"
   ]
  },
  {
   "cell_type": "code",
   "execution_count": 10,
   "id": "76c8c41e",
   "metadata": {},
   "outputs": [
    {
     "name": "stdout",
     "output_type": "stream",
     "text": [
      "La cantidad de productos vendidos es: 9\n"
     ]
    }
   ],
   "source": [
    "# 4. Crea un diccionario llamado \"ventas\" donde:\n",
    "#    - Cada clave sea el nombre de un producto\n",
    "#    - El valor sea la cantidad vendida\n",
    "#    Luego muestra la venta total sumando todas las cantidades.\n",
    "\n",
    "ventas = {'Laptop' : 3,\n",
    "          'Celular' : 5,\n",
    "          'Tablet' : 1}\n",
    "\n",
    "cantidad_ventas = 0\n",
    "for clave, valor in ventas.items():\n",
    "    cantidad_ventas += valor\n",
    "    \n",
    "print(f'La cantidad de productos vendidos es: {cantidad_ventas}')"
   ]
  },
  {
   "cell_type": "code",
   "execution_count": 36,
   "id": "81747d9e",
   "metadata": {},
   "outputs": [
    {
     "name": "stdout",
     "output_type": "stream",
     "text": [
      "Juan Pérez aprobó con nota 6.5\n",
      "Ana Gómez aprobó con nota 5.2\n",
      "Luis Martínez aprobó con nota 7.0\n",
      "María Rodríguez reprobó con nota 3.8\n",
      "Carlos López reprobó con nota 2.0\n",
      "Sofía Fernández aprobó con nota 5.7\n",
      "Pedro Sánchez reprobó con nota 3.3\n",
      "Laura García aprobó con nota 4.5\n",
      "David Morales aprobó con nota 4.0\n",
      "Marta Ruiz reprobó con nota 3.0\n"
     ]
    }
   ],
   "source": [
    "# 5. Crea una lista de diccionarios con información de estudiantes:\n",
    "#    [{\"nombre\": \"Ana\", \"nota\": 5.5}, ...]\n",
    "#    Recorre la lista e imprime:\n",
    "#    \"Ana aprobó\" si su nota >= 4.0, de lo contrario \"Ana reprobó\"\n",
    "\n",
    "estudiantes = [\n",
    "    {\"nombre\": \"Juan Pérez\", \"nota\": 6.5},\n",
    "    {\"nombre\": \"Ana Gómez\", \"nota\": 5.2},\n",
    "    {\"nombre\": \"Luis Martínez\", \"nota\": 7.0},\n",
    "    {\"nombre\": \"María Rodríguez\", \"nota\": 3.8},\n",
    "    {\"nombre\": \"Carlos López\", \"nota\": 2.0},\n",
    "    {\"nombre\": \"Sofía Fernández\", \"nota\": 5.7},\n",
    "    {\"nombre\": \"Pedro Sánchez\", \"nota\": 3.3},\n",
    "    {\"nombre\": \"Laura García\", \"nota\": 4.5},\n",
    "    {\"nombre\": \"David Morales\", \"nota\": 4.0},\n",
    "    {\"nombre\": \"Marta Ruiz\", \"nota\": 3.0}\n",
    "]\n",
    "\n",
    "for estudiante in estudiantes:\n",
    "    if (estudiante[\"nota\"] >= 4.0):\n",
    "        print(f\"{estudiante[\"nombre\"]} aprobó con nota {estudiante[\"nota\"]}\")\n",
    "    else:\n",
    "        print(f\"{estudiante[\"nombre\"]} reprobó con nota {estudiante[\"nota\"]}\")\n",
    "        "
   ]
  },
  {
   "cell_type": "markdown",
   "id": "a7c13a9c",
   "metadata": {},
   "source": [
    "#### Ejercicios con tuplas"
   ]
  },
  {
   "cell_type": "code",
   "execution_count": null,
   "id": "2f96b9da",
   "metadata": {},
   "outputs": [
    {
     "name": "stdout",
     "output_type": "stream",
     "text": [
      "rojo\n",
      "naranja\n"
     ]
    }
   ],
   "source": [
    "# 1. Crea una tupla con 5 colores y muestra el primero y el último.\n",
    "\n",
    "colores = (\"rojo\", \"azul\", \"verde\", \"morado\", \"naranja\")\n",
    "print(colores[0])\n",
    "print(colores[-1])"
   ]
  },
  {
   "cell_type": "code",
   "execution_count": 12,
   "id": "0bf91f8b",
   "metadata": {},
   "outputs": [
    {
     "name": "stdout",
     "output_type": "stream",
     "text": [
      "(10, 20, 100, 40, 50)\n"
     ]
    }
   ],
   "source": [
    "# 2. Dada la tupla:\n",
    "#    numeros = (10, 20, 30, 40, 50)\n",
    "#    Convierte la tupla en lista, modifica el valor central\n",
    "#    y vuelve a convertirla en tupla.\n",
    "\n",
    "numeros = (10, 20, 30, 40, 50)\n",
    "lista_numeros = list(numeros)\n",
    "lista_numeros[len(lista_numeros) // 2] = 100\n",
    "lista_numeros = tuple(lista_numeros)\n",
    "print(lista_numeros)"
   ]
  },
  {
   "cell_type": "code",
   "execution_count": 16,
   "id": "3fcf9469",
   "metadata": {},
   "outputs": [
    {
     "name": "stdout",
     "output_type": "stream",
     "text": [
      "Coordenada X: 10 | Coordenada Y: 25\n"
     ]
    }
   ],
   "source": [
    "# 3. Usa una tupla para representar coordenadas (x, y)\n",
    "#    Ej: (10, 25)\n",
    "#    Imprime los valores por separado.\n",
    "\n",
    "coordenadas = (10, 25)\n",
    "x, y = coordenadas[0], coordenadas[1]\n",
    "print(f\"Coordenada X: {x} | Coordenada Y: {y}\")"
   ]
  },
  {
   "cell_type": "code",
   "execution_count": 22,
   "id": "37eb72f2",
   "metadata": {},
   "outputs": [
    {
     "name": "stdout",
     "output_type": "stream",
     "text": [
      "Manzana se repite 2 veces en la tupla.\n",
      "La primera aparición se encuentra en el indice: 0\n"
     ]
    }
   ],
   "source": [
    "# 4. Dada la tupla:\n",
    "#    frutas = (\"Manzana\", \"Pera\", \"Manzana\", \"Uva\")\n",
    "#    - Cuenta cuántas veces aparece \"Manzana\"\n",
    "#    - Muestra el índice donde aparece la primera vez\n",
    "\n",
    "frutas = (\"Manzana\", \"Pera\", \"Manzana\", \"Uva\")\n",
    "print(f\"Manzana se repite {frutas.count(\"Manzana\")} veces en la tupla.\")\n",
    "print(f\"La primera aparición se encuentra en el indice: {frutas.index(\"Manzana\")}\")"
   ]
  },
  {
   "cell_type": "code",
   "execution_count": 23,
   "id": "90f19315",
   "metadata": {},
   "outputs": [
    {
     "data": {
      "text/plain": [
       "'edad_2'"
      ]
     },
     "execution_count": 23,
     "metadata": {},
     "output_type": "execute_result"
    }
   ],
   "source": [
    "# 5. Crea una tupla anidada con dos alumnos:\n",
    "#    ((nombre, edad), (nombre, edad))\n",
    "#    Imprime la edad del segundo alumno.\n",
    "\n",
    "alumnos = ((\"alumno_1, edad_1\", (\"alumno_2\", \"edad_2\")))\n",
    "alumnos[1][1]"
   ]
  },
  {
   "cell_type": "markdown",
   "id": "a3df06db",
   "metadata": {},
   "source": [
    "#### Ejercicios con sets"
   ]
  },
  {
   "cell_type": "code",
   "execution_count": null,
   "id": "d49673af",
   "metadata": {},
   "outputs": [],
   "source": [
    "# 1. Crea un set con 5 números y:\n",
    "#    - Añade uno nuevo\n",
    "#    - Intenta añadir uno repetido\n",
    "#    - Muestra el set"
   ]
  },
  {
   "cell_type": "code",
   "execution_count": null,
   "id": "d642221c",
   "metadata": {},
   "outputs": [],
   "source": [
    "\n",
    "# 2. Dado:\n",
    "#    a = {1, 2, 3, 4}\n",
    "#    b = {3, 4, 5, 6}\n",
    "#    - Intersección\n",
    "#    - Unión\n",
    "#    - Diferencia (a - b)"
   ]
  },
  {
   "cell_type": "code",
   "execution_count": null,
   "id": "61718458",
   "metadata": {},
   "outputs": [],
   "source": [
    "# 3. Crea un set desde una lista con valores repetidos:\n",
    "#    lista = [1, 2, 2, 3, 4, 4, 5]\n",
    "#    Muestra el resultado (sin duplicados)"
   ]
  },
  {
   "cell_type": "code",
   "execution_count": null,
   "id": "c5cb99d5",
   "metadata": {},
   "outputs": [],
   "source": [
    "# 4. Comprueba si un número ingresado por usuario\n",
    "#    está dentro de un set de números."
   ]
  },
  {
   "cell_type": "code",
   "execution_count": null,
   "id": "c729a24e",
   "metadata": {},
   "outputs": [],
   "source": [
    "# 5. Usa un set para eliminar los elementos repetidos de una frase:\n",
    "#    Ej: \"python es genial y python es poderoso\"\n",
    "#    Muestra las palabras únicas."
   ]
  }
 ],
 "metadata": {
  "kernelspec": {
   "display_name": "Python 3",
   "language": "python",
   "name": "python3"
  },
  "language_info": {
   "codemirror_mode": {
    "name": "ipython",
    "version": 3
   },
   "file_extension": ".py",
   "mimetype": "text/x-python",
   "name": "python",
   "nbconvert_exporter": "python",
   "pygments_lexer": "ipython3",
   "version": "3.12.10"
  }
 },
 "nbformat": 4,
 "nbformat_minor": 5
}
