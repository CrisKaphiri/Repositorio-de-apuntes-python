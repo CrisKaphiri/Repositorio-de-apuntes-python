{
 "cells": [
  {
   "cell_type": "markdown",
   "id": "eab16f83",
   "metadata": {},
   "source": [
    "#### Ejercicios con Listas"
   ]
  },
  {
   "cell_type": "code",
   "execution_count": 17,
   "id": "f7f7f08c",
   "metadata": {},
   "outputs": [
    {
     "name": "stdout",
     "output_type": "stream",
     "text": [
      "Primera ciudad: Santiago | Ultima ciudad: Arica\n"
     ]
    },
    {
     "data": {
      "text/plain": [
       "['Santiago', 'Concepción', 'Valparaiso', 'Coquimbo', 'Arica', 'Antofagasta']"
      ]
     },
     "execution_count": 17,
     "metadata": {},
     "output_type": "execute_result"
    }
   ],
   "source": [
    "# 1. Crea una lista con los nombres de 5 ciudades. Muestra la primera y la última.\n",
    "#    Luego agrega una nueva ciudad y muestra la lista actualizada.\n",
    "\n",
    "ciudades = ['Santiago', 'Concepción', 'Valparaiso', 'Coquimbo', 'Arica']\n",
    "print(f\"Primera ciudad: {ciudades[0]} | Ultima ciudad: {ciudades[-1]}\") # imprime primer y ultimo elemento\n",
    "ciudades.append('Antofagasta') # Añade antofagasta a la lista\n",
    "ciudades"
   ]
  },
  {
   "cell_type": "code",
   "execution_count": 35,
   "id": "554466fb",
   "metadata": {},
   "outputs": [
    {
     "name": "stdout",
     "output_type": "stream",
     "text": [
      "[2, 4, 6, 8, 10]\n"
     ]
    },
    {
     "data": {
      "text/plain": [
       "[2, 4, 6, 8, 10, 12, 14, 16, 18, 20]"
      ]
     },
     "execution_count": 35,
     "metadata": {},
     "output_type": "execute_result"
    }
   ],
   "source": [
    "# 2. Crea una lista con los números del 1 al 10.\n",
    "#    - Imprime los pares.\n",
    "#    - Crea una nueva lista con los números multiplicados por 2.\n",
    "numeros = list(range(1,11))\n",
    "pares = [x for x in numeros if x % 2 == 0]\n",
    "print(pares) # numeros pares\n",
    "numeros_x2 = [x*2 for x in numeros] # nueva lista con numeros multiplicados por 2\n",
    "numeros_x2"
   ]
  },
  {
   "cell_type": "code",
   "execution_count": 22,
   "id": "0caa22bb",
   "metadata": {},
   "outputs": [
    {
     "name": "stdout",
     "output_type": "stream",
     "text": [
      "[100, 200, 350, 400, 500]\n",
      "[200, 350, 400, 500]\n"
     ]
    },
    {
     "data": {
      "text/plain": [
       "[200, 350, 400, 500, 600]"
      ]
     },
     "execution_count": 22,
     "metadata": {},
     "output_type": "execute_result"
    }
   ],
   "source": [
    "# 3. Dada la lista:\n",
    "#    precios = [100, 200, 300, 400, 500]\n",
    "#    - Modifica el tercer valor a 350.\n",
    "#    - Elimina el primer elemento.\n",
    "#    - Agrega un nuevo precio al final.\n",
    "\n",
    "precios = [100, 200, 300, 400, 500]\n",
    "precios[2] = 350 # Modificar el tercer valor a 350\n",
    "print(precios)\n",
    "precios.pop(0) # Elimina el primer elemento\n",
    "print(precios)\n",
    "precios.append(600)\n",
    "precios"
   ]
  },
  {
   "cell_type": "code",
   "execution_count": 29,
   "id": "802df0f6",
   "metadata": {},
   "outputs": [
    {
     "name": "stdout",
     "output_type": "stream",
     "text": [
      "['Apio', 'Lechuga', 'Manzana', 'Naranja', 'Pera', 'Repollo']\n"
     ]
    },
    {
     "data": {
      "text/plain": [
       "6"
      ]
     },
     "execution_count": 29,
     "metadata": {},
     "output_type": "execute_result"
    }
   ],
   "source": [
    "# 4. Une dos listas: una de frutas y otra de verduras, ordénalas alfabéticamente\n",
    "#    y muestra la cantidad total de elementos.\n",
    "\n",
    "frutas = ['Manzana', 'Pera', 'Naranja']\n",
    "verduras = ['Lechuga', 'Apio', 'Repollo']\n",
    "frutas_verduras = frutas + verduras # Unir ambas listas\n",
    "frutas_verduras.sort() # Ordenado alfabeticamente\n",
    "print(frutas_verduras)\n",
    "len(frutas_verduras) # Cantidad total de elementos"
   ]
  },
  {
   "cell_type": "code",
   "execution_count": 30,
   "id": "b7873070",
   "metadata": {},
   "outputs": [
    {
     "data": {
      "text/plain": [
       "[1, 4, 9, 16, 25, 36, 49, 64, 81, 100]"
      ]
     },
     "execution_count": 30,
     "metadata": {},
     "output_type": "execute_result"
    }
   ],
   "source": [
    "# 5. Usa una lista por comprensión para crear una lista con los cuadrados de los números del 1 al 10.\n",
    "lista_cuadrados = list(x**2 for x in range(1, 11))\n",
    "lista_cuadrados"
   ]
  },
  {
   "cell_type": "code",
   "execution_count": null,
   "id": "f7d59195",
   "metadata": {},
   "outputs": [
    {
     "data": {
      "text/plain": [
       "' Python es poderoso y versátil'"
      ]
     },
     "execution_count": 33,
     "metadata": {},
     "output_type": "execute_result"
    }
   ],
   "source": [
    "# 6. Dada la lista de palabras:\n",
    "#    palabras = [\"Python\", \"es\", \"poderoso\", \"y\", \"versátil\"]\n",
    "#    - Une todas las palabras en una sola cadena separada por espacios.\n",
    "\n",
    "palabras = [\"Python\", \"es\", \"poderoso\", \"y\", \"versátil\"]\n",
    "texto = \"\"\n",
    "for palabra in palabras:\n",
    "    texto = texto + \" \" + palabra\n",
    "\n",
    "texto"
   ]
  }
 ],
 "metadata": {
  "kernelspec": {
   "display_name": "Python 3",
   "language": "python",
   "name": "python3"
  },
  "language_info": {
   "codemirror_mode": {
    "name": "ipython",
    "version": 3
   },
   "file_extension": ".py",
   "mimetype": "text/x-python",
   "name": "python",
   "nbconvert_exporter": "python",
   "pygments_lexer": "ipython3",
   "version": "3.12.10"
  }
 },
 "nbformat": 4,
 "nbformat_minor": 5
}
